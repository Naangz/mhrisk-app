{
 "cells": [
  {
   "cell_type": "code",
   "execution_count": 11,
   "id": "68bef765",
   "metadata": {},
   "outputs": [
    {
     "ename": "ImportError",
     "evalue": "cannot import name 'ColumnMapping' from 'evidently' (c:\\Users\\User\\anaconda3\\envs\\pso\\lib\\site-packages\\evidently\\__init__.py)",
     "output_type": "error",
     "traceback": [
      "\u001b[1;31m---------------------------------------------------------------------------\u001b[0m",
      "\u001b[1;31mImportError\u001b[0m                               Traceback (most recent call last)",
      "Cell \u001b[1;32mIn[11], line 12\u001b[0m\n\u001b[0;32m     10\u001b[0m \u001b[38;5;28;01mfrom\u001b[39;00m\u001b[38;5;250m \u001b[39m\u001b[38;5;21;01msklearn\u001b[39;00m\u001b[38;5;21;01m.\u001b[39;00m\u001b[38;5;21;01mmetrics\u001b[39;00m\u001b[38;5;250m \u001b[39m\u001b[38;5;28;01mimport\u001b[39;00m ConfusionMatrixDisplay, confusion_matrix\n\u001b[0;32m     11\u001b[0m \u001b[38;5;28;01mimport\u001b[39;00m\u001b[38;5;250m \u001b[39m\u001b[38;5;21;01mskops\u001b[39;00m\u001b[38;5;21;01m.\u001b[39;00m\u001b[38;5;21;01mio\u001b[39;00m\u001b[38;5;250m \u001b[39m\u001b[38;5;28;01mas\u001b[39;00m\u001b[38;5;250m \u001b[39m\u001b[38;5;21;01msio\u001b[39;00m\n\u001b[1;32m---> 12\u001b[0m \u001b[38;5;28;01mfrom\u001b[39;00m\u001b[38;5;250m \u001b[39m\u001b[38;5;21;01mevidently\u001b[39;00m\u001b[38;5;21;01m.\u001b[39;00m\u001b[38;5;21;01mreport\u001b[39;00m\u001b[38;5;250m \u001b[39m\u001b[38;5;28;01mimport\u001b[39;00m Report\n\u001b[0;32m     13\u001b[0m \u001b[38;5;28;01mfrom\u001b[39;00m\u001b[38;5;250m \u001b[39m\u001b[38;5;21;01mevidently\u001b[39;00m\u001b[38;5;21;01m.\u001b[39;00m\u001b[38;5;21;01mmetric_preset\u001b[39;00m\u001b[38;5;250m \u001b[39m\u001b[38;5;28;01mimport\u001b[39;00m ClassificationPreset\n",
      "File \u001b[1;32mc:\\Users\\User\\anaconda3\\envs\\pso\\lib\\site-packages\\evidently\\report\\__init__.py:1\u001b[0m\n\u001b[1;32m----> 1\u001b[0m \u001b[38;5;28;01mfrom\u001b[39;00m\u001b[38;5;250m \u001b[39m\u001b[38;5;21;01m.\u001b[39;00m\u001b[38;5;21;01mreport\u001b[39;00m\u001b[38;5;250m \u001b[39m\u001b[38;5;28;01mimport\u001b[39;00m Report\n",
      "File \u001b[1;32mc:\\Users\\User\\anaconda3\\envs\\pso\\lib\\site-packages\\evidently\\report\\report.py:11\u001b[0m\n\u001b[0;32m      7\u001b[0m \u001b[38;5;28;01mfrom\u001b[39;00m\u001b[38;5;250m \u001b[39m\u001b[38;5;21;01mtyping\u001b[39;00m\u001b[38;5;250m \u001b[39m\u001b[38;5;28;01mimport\u001b[39;00m Union\n\u001b[0;32m      9\u001b[0m \u001b[38;5;28;01mimport\u001b[39;00m\u001b[38;5;250m \u001b[39m\u001b[38;5;21;01mpandas\u001b[39;00m\u001b[38;5;250m \u001b[39m\u001b[38;5;28;01mas\u001b[39;00m\u001b[38;5;250m \u001b[39m\u001b[38;5;21;01mpd\u001b[39;00m\n\u001b[1;32m---> 11\u001b[0m \u001b[38;5;28;01mfrom\u001b[39;00m\u001b[38;5;250m \u001b[39m\u001b[38;5;21;01mevidently\u001b[39;00m\u001b[38;5;250m \u001b[39m\u001b[38;5;28;01mimport\u001b[39;00m ColumnMapping\n\u001b[0;32m     12\u001b[0m \u001b[38;5;28;01mfrom\u001b[39;00m\u001b[38;5;250m \u001b[39m\u001b[38;5;21;01mevidently\u001b[39;00m\u001b[38;5;21;01m.\u001b[39;00m\u001b[38;5;21;01mbase_metric\u001b[39;00m\u001b[38;5;250m \u001b[39m\u001b[38;5;28;01mimport\u001b[39;00m InputData\n\u001b[0;32m     13\u001b[0m \u001b[38;5;28;01mfrom\u001b[39;00m\u001b[38;5;250m \u001b[39m\u001b[38;5;21;01mevidently\u001b[39;00m\u001b[38;5;21;01m.\u001b[39;00m\u001b[38;5;21;01mbase_metric\u001b[39;00m\u001b[38;5;250m \u001b[39m\u001b[38;5;28;01mimport\u001b[39;00m Metric\n",
      "\u001b[1;31mImportError\u001b[0m: cannot import name 'ColumnMapping' from 'evidently' (c:\\Users\\User\\anaconda3\\envs\\pso\\lib\\site-packages\\evidently\\__init__.py)"
     ]
    }
   ],
   "source": [
    "import pandas as pd\n",
    "from sklearn.model_selection import train_test_split\n",
    "from sklearn.pipeline import Pipeline\n",
    "from sklearn.ensemble import RandomForestClassifier\n",
    "from sklearn.impute import SimpleImputer\n",
    "from sklearn.preprocessing import StandardScaler, OrdinalEncoder\n",
    "from sklearn.compose import ColumnTransformer\n",
    "from sklearn.metrics import accuracy_score, f1_score\n",
    "import matplotlib.pyplot as plt\n",
    "from sklearn.metrics import ConfusionMatrixDisplay, confusion_matrix\n",
    "import skops.io as sio\n",
    "from evidently.report import Report\n",
    "from evidently.metric_preset import ClassificationPreset"
   ]
  },
  {
   "cell_type": "code",
   "execution_count": null,
   "id": "5e7925d9",
   "metadata": {},
   "outputs": [],
   "source": [
    "# === Load Dataset ===\n",
    "df = pd.read_csv(\"Data/mental_health_lite.csv\")\n",
    "\n",
    "# === Select & reorder features ===\n",
    "features = [\n",
    "    \"age\", \"gender\", \"employment_status\", \"work_environment\", \"mental_health_history\",\n",
    "    \"seeks_treatment\", \"stress_level\", \"sleep_hours\", \"physical_activity_days\",\n",
    "    \"depression_score\", \"anxiety_score\", \"social_support_score\", \"productivity_score\"\n",
    "]\n",
    "target = \"mental_health_risk\"\n",
    "df = df[features + [target]].dropna()"
   ]
  },
  {
   "cell_type": "code",
   "execution_count": null,
   "id": "d52794b4",
   "metadata": {},
   "outputs": [],
   "source": [
    "# === Split Train-Test ===\n",
    "X = df[features]\n",
    "y = df[target]\n",
    "\n",
    "X_train, X_test, y_train, y_test = train_test_split(X, y, test_size=0.2, random_state=42)\n"
   ]
  },
  {
   "cell_type": "code",
   "execution_count": null,
   "id": "b0cae2c6",
   "metadata": {},
   "outputs": [],
   "source": [
    "# === Preprocessing ===\n",
    "cat_cols = X.select_dtypes(include=\"object\").columns.tolist()\n",
    "num_cols = X.select_dtypes(exclude=\"object\").columns.tolist()\n",
    "\n",
    "preprocessor = ColumnTransformer([\n",
    "    (\"cat\", OrdinalEncoder(), cat_cols),\n",
    "    (\"num\", Pipeline([\n",
    "        (\"imputer\", SimpleImputer(strategy=\"median\")),\n",
    "        (\"scaler\", StandardScaler())\n",
    "    ]), num_cols)\n",
    "])"
   ]
  },
  {
   "cell_type": "code",
   "execution_count": null,
   "id": "5712fbe4",
   "metadata": {},
   "outputs": [],
   "source": [
    "# === Pipeline ===\n",
    "pipe = Pipeline([\n",
    "    (\"preprocess\", preprocessor),\n",
    "    (\"model\", RandomForestClassifier(n_estimators=100, random_state=42))\n",
    "])\n",
    "\n",
    "pipe.fit(X_train, y_train)"
   ]
  },
  {
   "cell_type": "code",
   "execution_count": null,
   "id": "27c31e68",
   "metadata": {},
   "outputs": [],
   "source": [
    "# === Evaluation ===\n",
    "y_pred = pipe.predict(X_test)\n",
    "accuracy = accuracy_score(y_test, y_pred)\n",
    "f1 = f1_score(y_test, y_pred, average=\"macro\")\n",
    "\n",
    "print(f\"Accuracy: {accuracy:.2f}, F1: {f1:.2f}\")\n",
    "\n",
    "with open(\"Results/metrics.txt\", \"w\") as f:\n",
    "    f.write(f\"Accuracy = {accuracy:.2f}, F1 Score = {f1:.2f}\")"
   ]
  },
  {
   "cell_type": "code",
   "execution_count": null,
   "id": "f02270dd",
   "metadata": {},
   "outputs": [],
   "source": [
    "# === Confusion Matrix ===\n",
    "cm = confusion_matrix(y_test, y_pred, labels=pipe.named_steps['model'].classes_)\n",
    "disp = ConfusionMatrixDisplay(confusion_matrix=cm, display_labels=pipe.named_steps['model'].classes_)\n",
    "disp.plot()\n",
    "plt.savefig(\"results/model_results.png\", dpi=120)\n",
    "\n",
    "# === Save Model ===\n",
    "sio.dump(pipe, \"model/mental_health_model.skops\")"
   ]
  },
  {
   "cell_type": "code",
   "execution_count": null,
   "id": "6da33b58",
   "metadata": {},
   "outputs": [],
   "source": [
    "# === Evidently Report ===\n",
    "report = Report(metrics=[ClassificationPreset()])\n",
    "report.run(y_true=y_test, y_pred=y_pred, data=X_test)\n",
    "report.save_html(\"results/evidently_report.html\")\n",
    "\n",
    "# === Save Reference Data for Monitoring ===\n",
    "X_test_copy = X_test.copy()\n",
    "X_test_copy[\"target\"] = y_test\n",
    "X_test_copy.to_csv(\"monitoring/reference.csv\", index=False)"
   ]
  }
 ],
 "metadata": {
  "kernelspec": {
   "display_name": "pso",
   "language": "python",
   "name": "python3"
  },
  "language_info": {
   "codemirror_mode": {
    "name": "ipython",
    "version": 3
   },
   "file_extension": ".py",
   "mimetype": "text/x-python",
   "name": "python",
   "nbconvert_exporter": "python",
   "pygments_lexer": "ipython3",
   "version": "3.10.16"
  }
 },
 "nbformat": 4,
 "nbformat_minor": 5
}
