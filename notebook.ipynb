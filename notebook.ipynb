{
 "cells": [
  {
   "cell_type": "code",
   "execution_count": 50,
   "id": "68bef765",
   "metadata": {},
   "outputs": [],
   "source": [
    "import pandas as pd\n",
    "from sklearn.model_selection import train_test_split\n",
    "from sklearn.preprocessing import LabelEncoder\n",
    "from sklearn.pipeline import Pipeline\n",
    "from sklearn.compose import ColumnTransformer\n",
    "from sklearn.ensemble import RandomForestClassifier\n",
    "from sklearn.metrics import classification_report\n",
    "from sklearn.metrics import accuracy_score\n",
    "from xgboost import XGBClassifier\n",
    "import whylogs as why\n",
    "from whylogs import ResultSet\n",
    "from whylogs import log\n",
    "from datetime import datetime\n",
    "import shap\n",
    "from skops.io import dump, load\n",
    "import numpy as np"
   ]
  },
  {
   "cell_type": "code",
   "execution_count": 51,
   "id": "5e7925d9",
   "metadata": {},
   "outputs": [],
   "source": [
    "# 1. Load CSV\n",
    "file_path = \"data/mental_health_lite.csv\"\n",
    "df = pd.read_csv(file_path)"
   ]
  },
  {
   "cell_type": "code",
   "execution_count": 52,
   "id": "d52794b4",
   "metadata": {},
   "outputs": [
    {
     "data": {
      "text/plain": [
       "(True, 'whylogs_profile_raw_fixed_20250521_210448')"
      ]
     },
     "execution_count": 52,
     "metadata": {},
     "output_type": "execute_result"
    }
   ],
   "source": [
    "# 2. WhyLogs - Logging data awal\n",
    "\n",
    "# 2. Pastikan kolom numerik bertipe numerik (jaga-jaga)\n",
    "numeric_cols = ['age', 'stress_level', 'sleep_hours', 'physical_activity_days',\n",
    "                'depression_score', 'anxiety_score', 'social_support_score', 'productivity_score']\n",
    "df[numeric_cols] = df[numeric_cols].apply(pd.to_numeric, errors='coerce')\n",
    "\n",
    "log(df).write(f\"whylogs_profile_raw_fixed_{datetime.now().strftime('%Y%m%d_%H%M%S')}\")"
   ]
  },
  {
   "cell_type": "code",
   "execution_count": 54,
   "id": "de7201a1",
   "metadata": {},
   "outputs": [],
   "source": [
    "from whylogs.core.view import DatasetProfileView\n",
    "from whylogs.core.metrics.metrics import DistributionMetric\n",
    "\n",
    "profile_path = \"whylogs_profile_raw_fixed_20250521_210448\"  \n",
    "profile_view = DatasetProfileView.read(path=profile_path)\n",
    "\n",
    "columns = profile_view.get_columns()\n",
    "for col in columns:\n",
    "    col_view = profile_view.get_column(col)\n",
    "    dist_metric = col_view.get_metric(DistributionMetric)\n",
    "    if dist_metric:\n",
    "        print(f\"=== Kolom: {col} ===\")\n",
    "        print(f\" Count : {dist_metric.kll.value.count}\")\n",
    "        print(f\" Mean  : {dist_metric.kll.value.mean}\")\n",
    "        print(f\" Stddev: {dist_metric.kll.value.stddev}\")\n",
    "        print(f\" Min   : {dist_metric.kll.value.min}\")\n",
    "        print(f\" Max   : {dist_metric.kll.value.max}\")\n",
    "        print()"
   ]
  },
  {
   "cell_type": "code",
   "execution_count": 26,
   "id": "d1d123e6",
   "metadata": {},
   "outputs": [],
   "source": [
    "# 3. Encode target\n",
    "le_target = LabelEncoder()\n",
    "df[\"mental_health_risk\"] = le_target.fit_transform(df[\"mental_health_risk\"])"
   ]
  },
  {
   "cell_type": "code",
   "execution_count": 27,
   "id": "260d036a",
   "metadata": {},
   "outputs": [],
   "source": [
    "# 4. Split fitur dan target\n",
    "X = df.drop(columns=[\"mental_health_risk\"])\n",
    "y = df[\"mental_health_risk\"]"
   ]
  },
  {
   "cell_type": "code",
   "execution_count": 28,
   "id": "f53af5fe",
   "metadata": {},
   "outputs": [
    {
     "data": {
      "text/plain": [
       "(True, 'whylogs_profile_train_20250521_202624')"
      ]
     },
     "execution_count": 28,
     "metadata": {},
     "output_type": "execute_result"
    }
   ],
   "source": [
    "# 5. Split data latih dan uji\n",
    "X_train, X_test, y_train, y_test = train_test_split(\n",
    "    X, y, test_size=0.2, random_state=42\n",
    ")\n",
    "\n",
    "# 6. WhyLogs - Logging data train\n",
    "log(X_train).write(f\"whylogs_profile_train_{datetime.now().strftime('%Y%m%d_%H%M%S')}\")\n"
   ]
  },
  {
   "cell_type": "code",
   "execution_count": 29,
   "id": "a4e24877",
   "metadata": {},
   "outputs": [],
   "source": [
    "# 7. Encode fitur kategorikal\n",
    "label_encoders = {}\n",
    "for col in X_train.select_dtypes(include=\"object\").columns:\n",
    "    le = LabelEncoder()\n",
    "    X_train[col] = le.fit_transform(X_train[col])\n",
    "    X_test[col] = le.transform(X_test[col])\n",
    "    label_encoders[col] = le\n"
   ]
  },
  {
   "cell_type": "code",
   "execution_count": 30,
   "id": "80cdb21a",
   "metadata": {},
   "outputs": [],
   "source": [
    "# 8. Pipeline Random Forest\n",
    "pipeline_rf = Pipeline([\n",
    "    (\"scaler\", StandardScaler()),\n",
    "    (\"clf\", RandomForestClassifier(random_state=42))\n",
    "])\n",
    "pipeline_rf.fit(X_train, y_train)\n",
    "y_pred_rf = pipeline_rf.predict(X_test)"
   ]
  },
  {
   "cell_type": "code",
   "execution_count": 31,
   "id": "42edaba3",
   "metadata": {},
   "outputs": [
    {
     "name": "stderr",
     "output_type": "stream",
     "text": [
      "c:\\Users\\User\\anaconda3\\envs\\envtr1\\Lib\\site-packages\\xgboost\\training.py:183: UserWarning: [20:26:48] WARNING: C:\\actions-runner\\_work\\xgboost\\xgboost\\src\\learner.cc:738: \n",
      "Parameters: { \"use_label_encoder\" } are not used.\n",
      "\n",
      "  bst.update(dtrain, iteration=i, fobj=obj)\n"
     ]
    }
   ],
   "source": [
    "# 9. Pipeline XGBoost\n",
    "pipeline_xgb = Pipeline([\n",
    "    (\"scaler\", StandardScaler()),\n",
    "    (\"clf\", XGBClassifier(use_label_encoder=False, eval_metric='mlogloss', random_state=42))\n",
    "])\n",
    "pipeline_xgb.fit(X_train, y_train)\n",
    "y_pred_xgb = pipeline_xgb.predict(X_test)\n"
   ]
  },
  {
   "cell_type": "code",
   "execution_count": 17,
   "id": "7108b0ad",
   "metadata": {},
   "outputs": [
    {
     "data": {
      "text/plain": [
       "(True, 'whylogs_profile_pred_20250521_085300')"
      ]
     },
     "execution_count": 17,
     "metadata": {},
     "output_type": "execute_result"
    }
   ],
   "source": [
    "# 10. WhyLogs - Logging prediksi\n",
    "pred_df = pd.DataFrame({\n",
    "    \"y_test\": y_test,\n",
    "    \"y_pred_rf\": y_pred_rf,\n",
    "    \"y_pred_xgb\": y_pred_xgb\n",
    "})\n",
    "log(pred_df).write(f\"whylogs_profile_pred_{datetime.now().strftime('%Y%m%d_%H%M%S')}\")\n"
   ]
  },
  {
   "cell_type": "code",
   "execution_count": 18,
   "id": "35ef1385",
   "metadata": {},
   "outputs": [
    {
     "name": "stdout",
     "output_type": "stream",
     "text": [
      "Random Forest Report:\n",
      "              precision    recall  f1-score   support\n",
      "\n",
      "        High       0.98      0.87      0.92        54\n",
      "         Low       0.96      0.72      0.82        32\n",
      "      Medium       0.88      0.98      0.93       115\n",
      "\n",
      "    accuracy                           0.91       201\n",
      "   macro avg       0.94      0.86      0.89       201\n",
      "weighted avg       0.92      0.91      0.91       201\n",
      "\n",
      "\n",
      "XGBoost Report:\n",
      "              precision    recall  f1-score   support\n",
      "\n",
      "        High       1.00      0.96      0.98        54\n",
      "         Low       0.97      0.88      0.92        32\n",
      "      Medium       0.95      0.99      0.97       115\n",
      "\n",
      "    accuracy                           0.97       201\n",
      "   macro avg       0.97      0.94      0.96       201\n",
      "weighted avg       0.97      0.97      0.96       201\n",
      "\n"
     ]
    }
   ],
   "source": [
    "# 11. Evaluasi model\n",
    "print(\"Random Forest Report:\")\n",
    "print(classification_report(y_test, y_pred_rf, target_names=le_target.classes_))\n",
    "\n",
    "print(\"\\nXGBoost Report:\")\n",
    "print(classification_report(y_test, y_pred_xgb, target_names=le_target.classes_))"
   ]
  },
  {
   "cell_type": "code",
   "execution_count": 19,
   "id": "94b2d525",
   "metadata": {},
   "outputs": [
    {
     "name": "stdout",
     "output_type": "stream",
     "text": [
      "Akurasi Random Forest: 0.9104\n",
      "Akurasi XGBoost: 0.9652\n",
      "Model terbaik: XGBoost\n"
     ]
    }
   ],
   "source": [
    "# Hitung akurasi masing-masing model\n",
    "acc_rf = accuracy_score(y_test, y_pred_rf)\n",
    "acc_xgb = accuracy_score(y_test, y_pred_xgb)\n",
    "\n",
    "print(f\"Akurasi Random Forest: {acc_rf:.4f}\")\n",
    "print(f\"Akurasi XGBoost: {acc_xgb:.4f}\")\n",
    "\n",
    "# Pilih model dengan akurasi terbaik\n",
    "if acc_rf >= acc_xgb:\n",
    "    best_model = pipeline_rf\n",
    "    best_model_name = \"random_forest\"\n",
    "    print(\"Model terbaik: Random Forest\")\n",
    "else:\n",
    "    best_model = pipeline_xgb\n",
    "    best_model_name = \"xgboost\"\n",
    "    print(\"Model terbaik: XGBoost\")"
   ]
  },
  {
   "cell_type": "code",
   "execution_count": 20,
   "id": "0b057ba8",
   "metadata": {},
   "outputs": [],
   "source": [
    "# Simpan hanya model terbaik\n",
    "from skops.io import dump\n",
    "dump(best_model, f\"model/model_best_{best_model_name}.skops\")"
   ]
  },
  {
   "cell_type": "code",
   "execution_count": 49,
   "id": "c8341cd8",
   "metadata": {},
   "outputs": [],
   "source": [
    "import whylogs as why\n",
    "from whylogs.core.view import DatasetProfileView\n",
    "from whylogs.core.metrics.metrics import DistributionMetric\n",
    "import os\n",
    "\n",
    "# Path ke file profile yang disimpan\n",
    "profile_path = \"whylogs_profile_raw_20250521_202613\"  # ganti dengan nama filemu\n",
    "profile_view = DatasetProfileView.read(path=profile_path)\n",
    "\n",
    "# Ambil semua kolom\n",
    "columns = profile_view.get_columns()\n",
    "\n",
    "# Loop semua kolom untuk tampilkan metrik distribusi (numerik)\n",
    "for col in columns:\n",
    "    col_view = profile_view.get_column(col)\n",
    "\n",
    "    # Ambil metric bertipe distribusi (jika tersedia)\n",
    "    dist_metric = col_view.get_metric(DistributionMetric)\n",
    "    if dist_metric is not None:\n",
    "        print(f\"=== Kolom: {col} ===\")\n",
    "        print(f\"  Count     : {dist_metric.kll.value.count}\")\n",
    "        print(f\"  Mean      : {dist_metric.kll.value.mean}\")\n",
    "        print(f\"  Stddev    : {dist_metric.kll.value.stddev}\")\n",
    "        print(f\"  Min       : {dist_metric.kll.value.min}\")\n",
    "        print(f\"  Max       : {dist_metric.kll.value.max}\")\n",
    "        print()"
   ]
  },
  {
   "cell_type": "code",
   "execution_count": null,
   "id": "5caafa15",
   "metadata": {},
   "outputs": [],
   "source": []
  }
 ],
 "metadata": {
  "kernelspec": {
   "display_name": "envtr1",
   "language": "python",
   "name": "python3"
  },
  "language_info": {
   "codemirror_mode": {
    "name": "ipython",
    "version": 3
   },
   "file_extension": ".py",
   "mimetype": "text/x-python",
   "name": "python",
   "nbconvert_exporter": "python",
   "pygments_lexer": "ipython3",
   "version": "3.13.1"
  }
 },
 "nbformat": 4,
 "nbformat_minor": 5
}
