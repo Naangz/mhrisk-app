{
 "cells": [
  {
   "cell_type": "code",
   "execution_count": null,
   "id": "68bef765",
   "metadata": {},
   "outputs": [],
   "source": [
    "import pandas as pd\n",
    "import numpy as np\n",
    "import joblib\n",
    "import matplotlib.pyplot as plt\n",
    "\n",
    "from sklearn.model_selection import train_test_split\n",
    "from sklearn.preprocessing import LabelEncoder\n",
    "from sklearn.pipeline import Pipeline\n",
    "from sklearn.ensemble import RandomForestClassifier\n",
    "from xgboost import XGBClassifier\n",
    "from sklearn.metrics import accuracy_score, f1_score, confusion_matrix, ConfusionMatrixDisplay"
   ]
  },
  {
   "cell_type": "code",
   "execution_count": null,
   "id": "88f5e606",
   "metadata": {},
   "outputs": [],
   "source": [
    "# === Load Dataset ===\n",
    "df = pd.read_csv(\"data/mental_health_lite.csv\")"
   ]
  },
  {
   "cell_type": "code",
   "execution_count": null,
   "id": "b4ef0fd3",
   "metadata": {},
   "outputs": [],
   "source": [
    "# === Encode Categorical Columns ===\n",
    "categorical_cols = df.select_dtypes(include=[\"object\"]).columns.tolist()\n",
    "label_encoders = {}\n",
    "df_encoded = df.copy()\n",
    "\n",
    "for col in categorical_cols:\n",
    "    le = LabelEncoder()\n",
    "    df_encoded[col] = le.fit_transform(df_encoded[col])\n",
    "    label_encoders[col] = le"
   ]
  },
  {
   "cell_type": "code",
   "execution_count": null,
   "id": "b1870fbd",
   "metadata": {},
   "outputs": [],
   "source": [
    "# === Split Data ===\n",
    "target_column = \"mental_health_risk\"\n",
    "X = df_encoded.drop(columns=[target_column])\n",
    "y = df_encoded[target_column]\n",
    "y_class_names = label_encoders[target_column].classes_\n",
    "\n",
    "X_train, X_test, y_train, y_test = train_test_split(X, y, test_size=0.2, random_state=42)\n"
   ]
  },
  {
   "cell_type": "code",
   "execution_count": null,
   "id": "a83e4470",
   "metadata": {},
   "outputs": [],
   "source": [
    "# === Train Models ===\n",
    "models = {\n",
    "    \"RandomForest\": RandomForestClassifier(random_state=42),\n",
    "    \"XGBoost\": XGBClassifier(use_label_encoder=False, eval_metric=\"mlogloss\", random_state=42)\n",
    "}\n",
    "\n",
    "results = {}\n",
    "for name, model in models.items():\n",
    "    pipeline = Pipeline([(\"model\", model)])\n",
    "    pipeline.fit(X_train, y_train)\n",
    "\n",
    "    y_pred = pipeline.predict(X_test)\n",
    "    acc = accuracy_score(y_test, y_pred)\n",
    "    f1 = f1_score(y_test, y_pred, average=\"macro\")\n",
    "\n",
    "    results[name] = {\n",
    "        \"model\": pipeline,\n",
    "        \"accuracy\": acc,\n",
    "        \"f1_score\": f1,\n",
    "        \"y_pred\": y_pred\n",
    "    }\n"
   ]
  },
  {
   "cell_type": "code",
   "execution_count": null,
   "id": "c27d8eaf",
   "metadata": {},
   "outputs": [],
   "source": [
    "# === Select Best Model ===\n",
    "best_model_name = max(results, key=lambda m: results[m][\"f1_score\"])\n",
    "best_result = results[best_model_name]"
   ]
  },
  {
   "cell_type": "code",
   "execution_count": null,
   "id": "557e179a",
   "metadata": {},
   "outputs": [],
   "source": [
    "# === Save Best Model ===\n",
    "joblib.dump(best_result[\"model\"], \"model/final_model.pkl\")"
   ]
  },
  {
   "cell_type": "code",
   "execution_count": null,
   "id": "315317a9",
   "metadata": {},
   "outputs": [],
   "source": [
    "# === Save Metrics ===\n",
    "with open(\"Results/metrics.txt\", \"w\") as f:\n",
    "    f.write(f\"Model: {best_model_name}\\n\")\n",
    "    f.write(f\"Accuracy: {best_result['accuracy']:.4f}\\n\")\n",
    "    f.write(f\"F1 Score: {best_result['f1_score']:.4f}\\n\")"
   ]
  },
  {
   "cell_type": "code",
   "execution_count": null,
   "id": "4ee4a543",
   "metadata": {},
   "outputs": [],
   "source": [
    "# === Save Confusion Matrix ===\n",
    "cm = confusion_matrix(y_test, best_result[\"y_pred\"])\n",
    "disp = ConfusionMatrixDisplay(confusion_matrix=cm, display_labels=y_class_names)\n",
    "disp.plot()\n",
    "plt.title(f\"Confusion Matrix - {best_model_name}\")\n",
    "plt.savefig(\"Results/confusion_matrix.png\", dpi=120)\n",
    "plt.close()\n",
    "\n",
    "print(f\"Training complete. Best model: {best_model_name}\")"
   ]
  }
 ],
 "metadata": {
  "kernelspec": {
   "display_name": "pso",
   "language": "python",
   "name": "python3"
  },
  "language_info": {
   "codemirror_mode": {
    "name": "ipython",
    "version": 3
   },
   "file_extension": ".py",
   "mimetype": "text/x-python",
   "name": "python",
   "nbconvert_exporter": "python",
   "pygments_lexer": "ipython3",
   "version": "3.10.16"
  }
 },
 "nbformat": 4,
 "nbformat_minor": 5
}
