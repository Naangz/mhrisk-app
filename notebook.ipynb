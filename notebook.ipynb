{
 "cells": [
  {
   "cell_type": "code",
   "execution_count": 2,
   "id": "68bef765",
   "metadata": {},
   "outputs": [],
   "source": [
    "import pandas as pd\n",
    "from sklearn.model_selection import train_test_split\n",
    "from sklearn.preprocessing import LabelEncoder\n",
    "from sklearn.pipeline import Pipeline\n",
    "from sklearn.ensemble import RandomForestClassifier\n",
    "from sklearn.metrics import classification_report, accuracy_score, f1_score\n",
    "from xgboost import XGBClassifier\n",
    "import mlflow\n",
    "import mlflow.sklearn\n",
    "\n",
    "# === Load Dataset ===\n",
    "file_path = \"data/mental_health_lite.csv\"\n",
    "df = pd.read_csv(file_path)"
   ]
  },
  {
   "cell_type": "code",
   "execution_count": 3,
   "id": "cc022fd1",
   "metadata": {},
   "outputs": [],
   "source": [
    "# === Encode Categorical Columns ===\n",
    "categorical_cols = df.select_dtypes(include=[\"object\"]).columns.tolist()\n",
    "label_encoders = {}\n",
    "df_encoded = df.copy()\n",
    "\n",
    "for col in categorical_cols:\n",
    "    le = LabelEncoder()\n",
    "    df_encoded[col] = le.fit_transform(df_encoded[col])\n",
    "    label_encoders[col] = le\n",
    "\n",
    "# === Split Feature & Target ===\n",
    "target_column = \"mental_health_risk\"\n",
    "X = df_encoded.drop(columns=[target_column])\n",
    "y = df_encoded[target_column]\n",
    "target_encoder = label_encoders[target_column]\n",
    "y_class_names = target_encoder.classes_\n",
    "\n",
    "X_train, X_test, y_train, y_test = train_test_split(\n",
    "    X, y, test_size=0.2, random_state=42\n",
    ")"
   ]
  },
  {
   "cell_type": "code",
   "execution_count": null,
   "id": "f63970ab",
   "metadata": {},
   "outputs": [],
   "source": [
    "# === MLflow Config ===\n",
    "mlflow.set_tracking_uri(\"http://127.0.0.1:5000\")  # Use local tracking server\n",
    "mlflow.set_experiment(\"Mental Health Risk Classification\")"
   ]
  },
  {
   "cell_type": "code",
   "execution_count": null,
   "id": "525c229c",
   "metadata": {},
   "outputs": [],
   "source": [
    "# === Model 1: Random Forest ===\n",
    "with mlflow.start_run(run_name=\"RandomForest\"):\n",
    "    rf_model = RandomForestClassifier(random_state=42)\n",
    "    rf_pipeline = Pipeline([(\"model\", rf_model)])\n",
    "    rf_pipeline.fit(X_train, y_train)\n",
    "\n",
    "    y_pred_rf = rf_pipeline.predict(X_test)\n",
    "    acc_rf = accuracy_score(y_test, y_pred_rf)\n",
    "    f1_rf = f1_score(y_test, y_pred_rf, average=\"macro\")\n",
    "\n",
    "    mlflow.log_param(\"model\", \"RandomForest\")\n",
    "    mlflow.log_metric(\"accuracy\", acc_rf)\n",
    "    mlflow.log_metric(\"f1_score\", f1_rf)\n",
    "    mlflow.sklearn.log_model(rf_pipeline, \"random_forest_model\")\n",
    "\n",
    "    print(\"Random Forest Metrics:\")\n",
    "    print(classification_report(y_test, y_pred_rf, target_names=y_class_names))"
   ]
  },
  {
   "cell_type": "code",
   "execution_count": null,
   "id": "e53a9c51",
   "metadata": {},
   "outputs": [],
   "source": [
    "# === Model 2: XGBoost ===\n",
    "with mlflow.start_run(run_name=\"XGBoost\"):\n",
    "    xgb_model = XGBClassifier(use_label_encoder=False, eval_metric=\"mlogloss\", random_state=42)\n",
    "    xgb_pipeline = Pipeline([(\"model\", xgb_model)])\n",
    "    xgb_pipeline.fit(X_train, y_train)\n",
    "\n",
    "    y_pred_xgb = xgb_pipeline.predict(X_test)\n",
    "    acc_xgb = accuracy_score(y_test, y_pred_xgb)\n",
    "    f1_xgb = f1_score(y_test, y_pred_xgb, average=\"macro\")\n",
    "\n",
    "    mlflow.log_param(\"model\", \"XGBoost\")\n",
    "    mlflow.log_metric(\"accuracy\", acc_xgb)\n",
    "    mlflow.log_metric(\"f1_score\", f1_xgb)\n",
    "    mlflow.sklearn.log_model(xgb_pipeline, \"xgboost_model\")\n",
    "\n",
    "    print(\"XGBoost Metrics:\")\n",
    "    print(classification_report(y_test, y_pred_xgb, target_names=y_class_names))"
   ]
  }
 ],
 "metadata": {
  "kernelspec": {
   "display_name": "pso",
   "language": "python",
   "name": "python3"
  },
  "language_info": {
   "codemirror_mode": {
    "name": "ipython",
    "version": 3
   },
   "file_extension": ".py",
   "mimetype": "text/x-python",
   "name": "python",
   "nbconvert_exporter": "python",
   "pygments_lexer": "ipython3",
   "version": "3.10.16"
  }
 },
 "nbformat": 4,
 "nbformat_minor": 5
}
