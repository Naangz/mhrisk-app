{
  "cells": [
    {
      "cell_type": "code",
      "execution_count": 1,
      "metadata": {
        "colab": {
          "base_uri": "https://localhost:8080/"
        },
        "id": "ifsFpCwm8eJz",
        "outputId": "490c92be-91ff-4df6-beb0-f5e533bb3086"
      },
      "outputs": [
        {
          "name": "stdout",
          "output_type": "stream",
          "text": [
            "<class 'pandas.core.frame.DataFrame'>\n",
            "RangeIndex: 1001 entries, 0 to 1000\n",
            "Data columns (total 14 columns):\n",
            " #   Column                  Non-Null Count  Dtype  \n",
            "---  ------                  --------------  -----  \n",
            " 0   age                     1001 non-null   int64  \n",
            " 1   gender                  1001 non-null   object \n",
            " 2   employment_status       1001 non-null   object \n",
            " 3   work_environment        1001 non-null   object \n",
            " 4   mental_health_history   1001 non-null   object \n",
            " 5   seeks_treatment         1001 non-null   object \n",
            " 6   stress_level            1001 non-null   int64  \n",
            " 7   sleep_hours             1001 non-null   float64\n",
            " 8   physical_activity_days  1001 non-null   int64  \n",
            " 9   depression_score        1001 non-null   int64  \n",
            " 10  anxiety_score           1001 non-null   int64  \n",
            " 11  social_support_score    1001 non-null   int64  \n",
            " 12  productivity_score      1001 non-null   float64\n",
            " 13  mental_health_risk      1001 non-null   object \n",
            "dtypes: float64(2), int64(6), object(6)\n",
            "memory usage: 109.6+ KB\n"
          ]
        },
        {
          "data": {
            "text/plain": [
              "(   age      gender employment_status work_environment mental_health_history  \\\n",
              " 0   56        Male          Employed          On-site                   Yes   \n",
              " 1   46      Female           Student          On-site                    No   \n",
              " 2   32      Female          Employed          On-site                   Yes   \n",
              " 3   60  Non-binary     Self-employed          On-site                    No   \n",
              " 4   25      Female     Self-employed          On-site                   Yes   \n",
              " \n",
              "   seeks_treatment  stress_level  sleep_hours  physical_activity_days  \\\n",
              " 0             Yes             6          6.2                       3   \n",
              " 1             Yes            10          9.0                       4   \n",
              " 2              No             7          7.7                       2   \n",
              " 3              No             4          4.5                       4   \n",
              " 4             Yes             3          5.4                       0   \n",
              " \n",
              "    depression_score  anxiety_score  social_support_score  productivity_score  \\\n",
              " 0                28             17                    54                59.7   \n",
              " 1                30             11                    85                54.9   \n",
              " 2                24              7                    62                61.3   \n",
              " 3                 6              0                    95                97.0   \n",
              " 4                24             12                    70                69.0   \n",
              " \n",
              "   mental_health_risk  \n",
              " 0               High  \n",
              " 1               High  \n",
              " 2             Medium  \n",
              " 3                Low  \n",
              " 4               High  ,\n",
              " None)"
            ]
          },
          "execution_count": 1,
          "metadata": {},
          "output_type": "execute_result"
        }
      ],
      "source": [
        "import pandas as pd\n",
        "\n",
        "# Load the uploaded CSV file\n",
        "file_path = \"data/mental_health_lite.csv\"\n",
        "df = pd.read_csv(file_path)\n",
        "\n",
        "# Display the first few rows and basic info\n",
        "df.head(), df.info()"
      ]
    },
    {
      "cell_type": "code",
      "execution_count": 2,
      "metadata": {
        "colab": {
          "base_uri": "https://localhost:8080/"
        },
        "id": "FTZHbR_d79w9",
        "outputId": "b1c092b7-0cdd-494c-c359-f337e029ded9"
      },
      "outputs": [
        {
          "ename": "ModuleNotFoundError",
          "evalue": "No module named 'xgboost'",
          "output_type": "error",
          "traceback": [
            "\u001b[1;31m---------------------------------------------------------------------------\u001b[0m",
            "\u001b[1;31mModuleNotFoundError\u001b[0m                       Traceback (most recent call last)",
            "Cell \u001b[1;32mIn[2], line 5\u001b[0m\n\u001b[0;32m      3\u001b[0m \u001b[38;5;28;01mfrom\u001b[39;00m\u001b[38;5;250m \u001b[39m\u001b[38;5;21;01msklearn\u001b[39;00m\u001b[38;5;21;01m.\u001b[39;00m\u001b[38;5;21;01mensemble\u001b[39;00m\u001b[38;5;250m \u001b[39m\u001b[38;5;28;01mimport\u001b[39;00m RandomForestClassifier\n\u001b[0;32m      4\u001b[0m \u001b[38;5;28;01mfrom\u001b[39;00m\u001b[38;5;250m \u001b[39m\u001b[38;5;21;01msklearn\u001b[39;00m\u001b[38;5;21;01m.\u001b[39;00m\u001b[38;5;21;01mmetrics\u001b[39;00m\u001b[38;5;250m \u001b[39m\u001b[38;5;28;01mimport\u001b[39;00m classification_report\n\u001b[1;32m----> 5\u001b[0m \u001b[38;5;28;01mfrom\u001b[39;00m\u001b[38;5;250m \u001b[39m\u001b[38;5;21;01mxgboost\u001b[39;00m\u001b[38;5;250m \u001b[39m\u001b[38;5;28;01mimport\u001b[39;00m XGBClassifier\n\u001b[0;32m      7\u001b[0m \u001b[38;5;66;03m# Encode categorical columns\u001b[39;00m\n\u001b[0;32m      8\u001b[0m df_encoded \u001b[38;5;241m=\u001b[39m df\u001b[38;5;241m.\u001b[39mcopy()\n",
            "\u001b[1;31mModuleNotFoundError\u001b[0m: No module named 'xgboost'"
          ]
        }
      ],
      "source": [
        "from sklearn.model_selection import train_test_split\n",
        "from sklearn.preprocessing import LabelEncoder\n",
        "from sklearn.ensemble import RandomForestClassifier\n",
        "from sklearn.metrics import classification_report\n",
        "from xgboost import XGBClassifier\n",
        "\n",
        "# Encode categorical columns\n",
        "df_encoded = df.copy()\n",
        "label_encoders = {}\n",
        "\n",
        "# Train XGBoost dengan default parameters\n",
        "xgb_model = XGBClassifier(use_label_encoder=False, eval_metric='mlogloss', random_state=42)\n",
        "xgb_model.fit(X_train, y_train)\n",
        "\n",
        "for column in df_encoded.select_dtypes(include=[\"object\"]).columns:\n",
        "    le = LabelEncoder()\n",
        "    df_encoded[column] = le.fit_transform(df_encoded[column])\n",
        "    label_encoders[column] = le\n",
        "\n",
        "# Pisahkan fitur dan target\n",
        "X = df_encoded.drop(\"mental_health_risk\", axis=1)\n",
        "y = df_encoded[\"mental_health_risk\"]\n",
        "\n",
        "# Split data 80:20\n",
        "X_train, X_test, y_train, y_test = train_test_split(X, y, test_size=0.2, random_state=42)\n",
        "\n",
        "# Train model tanpa tuning hyperparameter\n",
        "model = RandomForestClassifier(random_state=42)\n",
        "model.fit(X_train, y_train)\n",
        "\n",
        "# Prediksi\n",
        "y_pred = model.predict(X_test)\n",
        "\n",
        "# Prediksi dan evaluasi\n",
        "y_pred_xgb = xgb_model.predict(X_test)\n",
        "report_xgb = classification_report(y_test, y_pred_xgb, target_names=label_encoders['mental_health_risk'].classes_, digits=4)\n",
        "print(report_xgb)\n",
        "\n",
        "# Evaluasi\n",
        "report = classification_report(y_test, y_pred, target_names=label_encoders['mental_health_risk'].classes_, digits=4)\n",
        "print(report)"
      ]
    }
  ],
  "metadata": {
    "colab": {
      "provenance": []
    },
    "kernelspec": {
      "display_name": "pso",
      "language": "python",
      "name": "python3"
    },
    "language_info": {
      "codemirror_mode": {
        "name": "ipython",
        "version": 3
      },
      "file_extension": ".py",
      "mimetype": "text/x-python",
      "name": "python",
      "nbconvert_exporter": "python",
      "pygments_lexer": "ipython3",
      "version": "3.10.16"
    }
  },
  "nbformat": 4,
  "nbformat_minor": 0
}
